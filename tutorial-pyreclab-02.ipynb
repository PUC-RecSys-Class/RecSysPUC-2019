{
  "nbformat": 4,
  "nbformat_minor": 0,
  "metadata": {
    "colab": {
      "name": "Sistemas_Recomendadores_Pyreclab_Ayudantia_FactorizacionMatricial.ipynb",
      "version": "0.3.2",
      "provenance": [],
      "collapsed_sections": []
    },
    "kernelspec": {
      "name": "python3",
      "display_name": "Python 3"
    }
  },
  "cells": [
    {
      "cell_type": "markdown",
      "metadata": {
        "id": "NC-ceGb8LRLT",
        "colab_type": "text"
      },
      "source": [
        "# Práctica de Sistemas Recomendadores: pyreclab - SVD e Implicit Feedback"
      ]
    },
    {
      "cell_type": "markdown",
      "metadata": {
        "id": "mACJbcW8T35p",
        "colab_type": "text"
      },
      "source": [
        "En este práctico, volveremos a utilizar la biblioteca de Python [pyreclab](https://github.com/gasevi/pyreclab), desarrollado por los Laboratorios IALab y SocVis de la Pontificia Universidad Católica de Chile, para aprender sobre algoritmos más avanzados de recomendación:\n",
        "\n",
        "* Singular Value Decomposition (SVD)\n",
        "* Alternating Least Squares (ALS) Implicit Feedback  Coordinate Descent\n",
        "\n",
        "**Basado en el material original de**: Denis Parra, Gabriel Sepúlveda\n",
        "\n",
        "**Ayudantes**: Manuel Cartagena, Andrés Carvallo y Patricio Cerda. \n",
        "\n",
        "\n"
      ]
    },
    {
      "cell_type": "markdown",
      "metadata": {
        "colab_type": "text",
        "id": "QAWwsX1cfob2"
      },
      "source": [
        "Nombre: **completar**"
      ]
    },
    {
      "cell_type": "markdown",
      "metadata": {
        "id": "l-3HVp9guEsg",
        "colab_type": "text"
      },
      "source": [
        "# Índice"
      ]
    },
    {
      "cell_type": "markdown",
      "metadata": {
        "id": "eYxhCKYPbBT2",
        "colab_type": "toc"
      },
      "source": [
        ">[Práctica de Sistemas Recomendadores 2: pyreclab - SVD e Implicit Feedback](#scrollTo=NC-ceGb8LRLT)\n",
        "\n",
        ">[Índice](#scrollTo=l-3HVp9guEsg)\n",
        "\n",
        ">[Actividad 1](#scrollTo=uKAqmo5IdQFI)\n",
        "\n",
        ">[Descargando la información](#scrollTo=IFpEoacrMwQx)\n",
        "\n",
        ">[Revisar archivos descargados](#scrollTo=TJon9T5ZMwRG)\n",
        "\n",
        ">>[Como ver la información de una o más películas](#scrollTo=WkU90OXOh-pk)\n",
        "\n",
        ">>[Graficar la información](#scrollTo=_tjnQ5koSAup)\n",
        "\n",
        ">>[Preparar entorno](#scrollTo=7HU7NoDUhnYl)\n",
        "\n",
        ">[SVD](#scrollTo=cKYbD4T-OCtj)\n",
        "\n",
        ">>[Entrenar SVD](#scrollTo=JxvKwB2Su1GZ)\n",
        "\n",
        ">>[Testear predicción](#scrollTo=lIv2YBYKva85)\n",
        "\n",
        ">>[Testear recomendaciones](#scrollTo=UYEX5bWsvnYJ)\n",
        "\n",
        ">>[Aplicar SVD al usuario en cuestión](#scrollTo=_RNJRHp2vwIQ)\n",
        "\n",
        ">>>[Graficar los géneros de las películas para ver si se asemejan a lo visto anteriormente](#scrollTo=LAs9AxrAv1MR)\n",
        "\n",
        ">>>[Actividad 2](#scrollTo=ny4E5JcYZiyW)\n",
        "\n",
        ">>>[Actividad 3](#scrollTo=BZvaluMLg88m)\n",
        "\n",
        ">[ALS (Implicit Feedback)  Coordinate Descent](#scrollTo=lWtg8NYNXFJ_)\n",
        "\n",
        ">>[Crear objeto ALS](#scrollTo=9I40w0XT0ccx)\n",
        "\n",
        ">>[Entrenar ALS](#scrollTo=f0h71UFdzOjw)\n",
        "\n",
        ">>[Calcular métricas de recomendación (MAP y NDCG)](#scrollTo=OzAsvtPg0XXi)\n",
        "\n",
        ">>[Recomendar a un usuario en particular](#scrollTo=M7PizyiSuAGS)\n",
        "\n",
        ">>[Actividad 4](#scrollTo=aJdHEECCxGUb)\n",
        "\n"
      ]
    },
    {
      "cell_type": "markdown",
      "metadata": {
        "id": "uKAqmo5IdQFI",
        "colab_type": "text"
      },
      "source": [
        "# Actividad 1\n",
        "\n",
        "Antes de empezar con la actividad, responder la siguiente pregunta con lo visto en clases\n",
        "\n",
        "**Pregunta:** Explique cómo funciona SVD (como modelo teórico, no piense en la implementación), y cómo funciona el método `train()` en  `pyreclab`. En particular explique\n",
        "\n",
        "- ¿Qué datos recibe SVD? (qué tipo de columnas)\n",
        "- ¿Que hace con esos datos? Si realiza algún calculo, ¿Qué calculo?\n",
        "- ¿Cómo recomienda este modelo?\n",
        "- En `pyreclab`, ¿qué hace el método `train()`? ¿Calcula información?, ¿no hace nada?, ¿ordena datos? Explique como debería funcionar dado el modelo teórico.\n",
        "\n",
        "\n",
        "\n",
        "\n"
      ]
    },
    {
      "cell_type": "markdown",
      "metadata": {
        "id": "VvDxjWvUdcv8",
        "colab_type": "text"
      },
      "source": [
        "**Respuesta:** COMPLETAR"
      ]
    },
    {
      "cell_type": "markdown",
      "metadata": {
        "id": "IFpEoacrMwQx",
        "colab_type": "text"
      },
      "source": [
        "# Descargando la información\n",
        "\n",
        "Vaya ejecutando cada celda presionando el botón de **Play** o presionando Ctrl+Enter (Linux y Windows) o Command+Enter (Macosx) para descargar las bases de datos"
      ]
    },
    {
      "cell_type": "code",
      "metadata": {
        "id": "sUlFGZprHneQ",
        "colab_type": "code",
        "colab": {}
      },
      "source": [
        "!curl -L -o \"u2.base\" \"https://drive.google.com/uc?export=download&id=1bGweNw7NbOHoJz11v6ld7ymLR8MLvBsA\""
      ],
      "execution_count": 0,
      "outputs": []
    },
    {
      "cell_type": "code",
      "metadata": {
        "id": "BN0P2xxrH0z8",
        "colab_type": "code",
        "colab": {}
      },
      "source": [
        "!curl -L -o \"u2.test\" \"https://drive.google.com/uc?export=download&id=1f_HwJWC_1HFzgAjKAWKwkuxgjkhkXrVg\""
      ],
      "execution_count": 0,
      "outputs": []
    },
    {
      "cell_type": "code",
      "metadata": {
        "id": "PKo1OuqlH8sQ",
        "colab_type": "code",
        "colab": {}
      },
      "source": [
        "!curl -L -o \"u.item\" \"https://drive.google.com/uc?export=download&id=10YLhxkO2-M_flQtyo9OYV4nT9IvSESuz\""
      ],
      "execution_count": 0,
      "outputs": []
    },
    {
      "cell_type": "markdown",
      "metadata": {
        "id": "TJon9T5ZMwRG",
        "colab_type": "text"
      },
      "source": [
        "Los archivos **u1.base** y **u1.test** tienen tuplas {usuario, item, rating, timestamp}, que es la información de preferencias de usuarios sobre películas en una muestra del dataset [movielens](https://grouplens.org/datasets/movielens/).\n",
        "\n",
        "# Revisar archivos descargados\n",
        "\n",
        "Revisemos cómo es uno de estos archivos:\n"
      ]
    },
    {
      "cell_type": "code",
      "metadata": {
        "id": "zT11_REYOyFO",
        "colab_type": "code",
        "colab": {}
      },
      "source": [
        "# Primero creamos el dataframe con los datos\n",
        "df_train = pd.read_csv('u2.base',\n",
        "                         sep='\\t',\n",
        "                         names=['userid', 'itemid', 'rating', 'timestamp'],\n",
        "                         header=None)\n",
        "df_train.head()"
      ],
      "execution_count": 0,
      "outputs": []
    },
    {
      "cell_type": "code",
      "metadata": {
        "id": "PybXBQ_RjrZ0",
        "colab_type": "code",
        "colab": {}
      },
      "source": [
        "# Ahora queremos realizar una observación rápida de los datos\n",
        "\n",
        "df_train.describe()"
      ],
      "execution_count": 0,
      "outputs": []
    },
    {
      "cell_type": "markdown",
      "metadata": {
        "id": "BKOrcfaiEdqM",
        "colab_type": "text"
      },
      "source": [
        "Por otra parte, para obtener información adicional de cada película tal como **título**, **fecha de lanzamiento**, **género**, etc., cargaremos el archivo de items descargado (`u.item`) para poder mapear cada identificador de ítem al conjunto de datos que lo describe. Revisemos el contenido de este archivo"
      ]
    },
    {
      "cell_type": "code",
      "metadata": {
        "id": "JGxmaexNPv3p",
        "colab_type": "code",
        "colab": {}
      },
      "source": [
        "columns = ['movieid', 'title', 'release_date', 'video_release_date', \\\n",
        "           'IMDb_URL', 'unknown', 'Action', 'Adventure', 'Animation', \\\n",
        "           'Children', 'Comedy', 'Crime', 'Documentary', 'Drama', 'Fantasy', \\\n",
        "           'Film-Noir', 'Horror', 'Musical', 'Mystery', 'Romance', 'Sci-Fi', \\\n",
        "           'Thriller', 'War', 'Western']"
      ],
      "execution_count": 0,
      "outputs": []
    },
    {
      "cell_type": "code",
      "metadata": {
        "id": "ThhWLfrwPA_5",
        "colab_type": "code",
        "colab": {}
      },
      "source": [
        "# Cargamos el dataset con los items\n",
        "df_items = pd.read_csv('u.item',\n",
        "                        sep='|',\n",
        "                        index_col=0,\n",
        "                        names = columns,\n",
        "                        header=None, \n",
        "                        encoding='latin-1')\n",
        "df_items.head()"
      ],
      "execution_count": 0,
      "outputs": []
    },
    {
      "cell_type": "code",
      "metadata": {
        "id": "KFyf6y02P1S0",
        "colab_type": "code",
        "colab": {}
      },
      "source": [
        "# Realizamos una inspección sobre estos datos (.info())\n",
        "\n",
        "df_items.info()"
      ],
      "execution_count": 0,
      "outputs": []
    },
    {
      "cell_type": "markdown",
      "metadata": {
        "id": "WkU90OXOh-pk",
        "colab_type": "text"
      },
      "source": [
        "\n",
        "## Como ver la información de una o más películas\n",
        "Para esto seguir los siguientes pasos, \n",
        "1. Determinar los índices de las películas\n",
        "2. Pedir a `info_file` las columnas\n",
        "3. (adicional) Indicar alguna columna en específico"
      ]
    },
    {
      "cell_type": "code",
      "metadata": {
        "id": "gkxkjfD0h974",
        "colab_type": "code",
        "colab": {}
      },
      "source": [
        "# ejemplo de cómo visualizar titulos de peliculas en base a sus IDs\n",
        "pelis = [5,4,1]\n",
        "info_file.loc[pelis]"
      ],
      "execution_count": 0,
      "outputs": []
    },
    {
      "cell_type": "markdown",
      "metadata": {
        "id": "d42lOAi1iDWY",
        "colab_type": "text"
      },
      "source": [
        "Para éste código:\n",
        "1. `pelis = [5,4,1]` indica que queremos las películas cuyo índice son 5, 4 y 1\n",
        "2. `info_file.loc[pelis]` el método `loc` permite acceder a esas columna\n",
        "A continuación se verá como obtener una columna en específico. Para esto solo es necesario agregar corchetes y el nombre de la columna"
      ]
    },
    {
      "cell_type": "code",
      "metadata": {
        "id": "Mm25cLgAiCVQ",
        "colab_type": "code",
        "colab": {}
      },
      "source": [
        "info_file.loc[pelis]['title']"
      ],
      "execution_count": 0,
      "outputs": []
    },
    {
      "cell_type": "markdown",
      "metadata": {
        "id": "_tjnQ5koSAup",
        "colab_type": "text"
      },
      "source": [
        "## Graficar la información\n",
        "\n",
        "Generemos algunos gráficos en relación a las películas."
      ]
    },
    {
      "cell_type": "code",
      "metadata": {
        "id": "zkfhKrUYiPY2",
        "colab_type": "code",
        "colab": {}
      },
      "source": [
        "import altair as alt\n",
        "import pandas as pd\n",
        "\n",
        "genre_columns = ['unknown', 'Action', 'Adventure', 'Animation', \\\n",
        "           'Children', 'Comedy', 'Crime', 'Documentary', 'Drama', 'Fantasy', \\\n",
        "           'Film-Noir', 'Horror', 'Musical', 'Mystery', 'Romance', 'Sci-Fi', \\\n",
        "           'Thriller', 'War', 'Western']\n",
        "\n",
        "\n",
        "genre_count = pd.DataFrame(df_items[genre_columns].sum().sort_values())\n",
        "\n",
        "genre_count = genre_count.reset_index()\n",
        "genre_count.columns = [\"genre\", \"value\"]\n",
        "\n",
        "\n",
        "alt.Chart(genre_count).mark_bar().encode(\n",
        "    x=alt.X('value'),\n",
        "    y=alt.Y(\"genre\", sort=alt.EncodingSortField(\"value\", order='ascending'))\n",
        ").interactive()"
      ],
      "execution_count": 0,
      "outputs": []
    },
    {
      "cell_type": "markdown",
      "metadata": {
        "id": "7HU7NoDUhnYl",
        "colab_type": "text"
      },
      "source": [
        "## Preparar entorno\n",
        "Primero es necesario instalar una librería para realizar recomendaciones. Esta se llama ***pyreclab***"
      ]
    },
    {
      "cell_type": "code",
      "metadata": {
        "id": "rtscg3KuMwRL",
        "colab_type": "code",
        "colab": {}
      },
      "source": [
        "!pip install pyreclab --upgrade"
      ],
      "execution_count": 0,
      "outputs": []
    },
    {
      "cell_type": "markdown",
      "metadata": {
        "id": "qrZhH8Kqtx7_",
        "colab_type": "text"
      },
      "source": [
        "Luego necesitamos importar las librerías a utilizar en este práctico"
      ]
    },
    {
      "cell_type": "code",
      "metadata": {
        "id": "3Ii2pB-LO0Xy",
        "colab_type": "code",
        "colab": {}
      },
      "source": [
        "import pandas as pd\n",
        "import pyreclab\n",
        "import numpy as np\n",
        "import scipy.sparse as sparse\n",
        "import matplotlib.pyplot as plt\n",
        "\n",
        "%matplotlib inline"
      ],
      "execution_count": 0,
      "outputs": []
    },
    {
      "cell_type": "markdown",
      "metadata": {
        "id": "cKYbD4T-OCtj",
        "colab_type": "text"
      },
      "source": [
        "# SVD"
      ]
    },
    {
      "cell_type": "markdown",
      "metadata": {
        "id": "jxjJyiSnMwRe",
        "colab_type": "text"
      },
      "source": [
        "Tome un usuario, cualquiera, del dataset y vamos a reportar parte de sus **gustos explícitamente** (es decir, nombre de las películas, género, etc., no id). Para este mismo usuario, la actividad será que **revise explícitamente** las recomendaciones al llegar a la parametrización que reporta las **mejores métricas**.\n",
        "\n",
        "En este caso pusimos el número **2** pero puede poner otro. Primero vamos a mostrar cada película que ha visto este usuario."
      ]
    },
    {
      "cell_type": "code",
      "metadata": {
        "id": "gDBwx73_XNGF",
        "colab_type": "code",
        "colab": {}
      },
      "source": [
        "user_id = 2\n",
        "user_df = df_train[df_train['userid'] == user_id]\n",
        "\n"
      ],
      "execution_count": 0,
      "outputs": []
    },
    {
      "cell_type": "markdown",
      "metadata": {
        "id": "MA72jspau2su",
        "colab_type": "text"
      },
      "source": [
        "Vaoms a visualizar los géneros de las películas que ha visto el usuario."
      ]
    },
    {
      "cell_type": "code",
      "metadata": {
        "id": "uxQDuu0Gu7xw",
        "colab_type": "code",
        "colab": {}
      },
      "source": [
        "import altair as alt\n",
        "import pandas as pd\n",
        "\n",
        "genre_columns = ['unknown', 'Action', 'Adventure', 'Animation', \\\n",
        "           'Children', 'Comedy', 'Crime', 'Documentary', 'Drama', 'Fantasy', \\\n",
        "           'Film-Noir', 'Horror', 'Musical', 'Mystery', 'Romance', 'Sci-Fi', \\\n",
        "           'Thriller', 'War', 'Western']\n",
        "\n",
        "df_movies_user = df_items.loc[user_df['itemid'].values]\n",
        "\n",
        "genre_count = pd.DataFrame(df_movies_user[genre_columns].sum().sort_values())\n",
        "\n",
        "genre_count = genre_count.reset_index()\n",
        "genre_count.columns = [\"genre\", \"value\"]\n",
        "\n",
        "\n",
        "alt.Chart(genre_count).mark_bar().encode(\n",
        "    x=alt.X('value'),\n",
        "    y=alt.Y(\"genre\", sort=alt.EncodingSortField(\"value\", order='ascending'))\n",
        ").interactive()"
      ],
      "execution_count": 0,
      "outputs": []
    },
    {
      "cell_type": "markdown",
      "metadata": {
        "id": "JxvKwB2Su1GZ",
        "colab_type": "text"
      },
      "source": [
        "## Entrenar SVD\n",
        "\n",
        "Ahora vamos a definir el objeto **svd** para entrenarlo y luego recomendar. Los parámetros que escogimos fue:\n",
        "\n",
        "- `factores = 100`\n",
        "\n",
        "- `maxiter = 100`\n",
        "\n",
        "- `lr = 0.01`\n",
        "\n",
        "- `lamb = 0.1`"
      ]
    },
    {
      "cell_type": "code",
      "metadata": {
        "id": "wdlRP7CDUVuj",
        "colab_type": "code",
        "colab": {}
      },
      "source": [
        "# Definicion de objeto svd\n",
        "\n",
        "svd = pyreclab.SVD(dataset='u2.base',\n",
        "                   dlmchar=b'\\t',\n",
        "                   header=False,\n",
        "                   usercol=0,\n",
        "                   itemcol=1,\n",
        "                   ratingcol=2)\n",
        "\n",
        "# Entrenamiento del modelo\n",
        "svd.train(factors=100, maxiter=100, lr=0.01, lamb=0.1)"
      ],
      "execution_count": 0,
      "outputs": []
    },
    {
      "cell_type": "markdown",
      "metadata": {
        "id": "lIv2YBYKva85",
        "colab_type": "text"
      },
      "source": [
        "## Testear predicción\n",
        "\n",
        "Ahora vamos a ver el MAE y RMSE con los parámetros anteriormente definidos para el entrenamiento para predecir _rating_."
      ]
    },
    {
      "cell_type": "code",
      "metadata": {
        "id": "Kfa_xg-hWNRV",
        "colab_type": "code",
        "colab": {}
      },
      "source": [
        "# Testing de predicciones\n",
        "predlist, mae, rmse = svd.test(input_file='u2.test',\n",
        "                               dlmchar=b'\\t',\n",
        "                               header=False,\n",
        "                               usercol=0,\n",
        "                               itemcol=1,\n",
        "                               ratingcol=2)\n",
        "\n",
        "print('MAE: {}\\nRMSE: {}'.format(mae, rmse))"
      ],
      "execution_count": 0,
      "outputs": []
    },
    {
      "cell_type": "markdown",
      "metadata": {
        "id": "UYEX5bWsvnYJ",
        "colab_type": "text"
      },
      "source": [
        "## Testear recomendaciones\n",
        "\n",
        "Ahora vamos a ver el MAE y RMSE con los parámetros anteriormente definidos para el entrenamiento para recomendar nuevas películas."
      ]
    },
    {
      "cell_type": "code",
      "metadata": {
        "id": "84Mhz6COZEWJ",
        "colab_type": "code",
        "colab": {}
      },
      "source": [
        "# Testing de recomendaciones\n",
        "top_n = 20\n",
        "\n",
        "recommendList, maprec, ndcg = svd.testrec(input_file='u2.test',\n",
        "                                          dlmchar=b'\\t',\n",
        "                                          header=False,\n",
        "                                          usercol=0,\n",
        "                                          itemcol=1,\n",
        "                                          ratingcol=2,\n",
        "                                          topn=top_n,\n",
        "                                          relevance_threshold=2,\n",
        "                                          includeRated=False)\n",
        "\n",
        "print('MAP: {}\\nNDCG@{}: {}'.format(maprec, top_n, ndcg))"
      ],
      "execution_count": 0,
      "outputs": []
    },
    {
      "cell_type": "markdown",
      "metadata": {
        "id": "_RNJRHp2vwIQ",
        "colab_type": "text"
      },
      "source": [
        "## Aplicar SVD al usuario en cuestión"
      ]
    },
    {
      "cell_type": "code",
      "metadata": {
        "id": "ajYeu3G1ZuJR",
        "colab_type": "code",
        "colab": {}
      },
      "source": [
        "# Calcular las recomendaciones para el usuario escogido\n",
        "ranking = [int(r) for r in svd.recommend(str(user_id), top_n, includeRated=False)]\n",
        "print('Recommendation for user {}: {}'.format(user_id, ranking))"
      ],
      "execution_count": 0,
      "outputs": []
    },
    {
      "cell_type": "code",
      "metadata": {
        "id": "rXA_8K1zaEHx",
        "colab_type": "code",
        "colab": {}
      },
      "source": [
        "# Ver explicitamente las recomendaciones para un usuario\n",
        "df_items.loc[ranking]"
      ],
      "execution_count": 0,
      "outputs": []
    },
    {
      "cell_type": "markdown",
      "metadata": {
        "id": "LAs9AxrAv1MR",
        "colab_type": "text"
      },
      "source": [
        "### Graficar los géneros de las películas para ver si se asemejan a lo visto anteriormente"
      ]
    },
    {
      "cell_type": "code",
      "metadata": {
        "id": "M89XwZ37v8sX",
        "colab_type": "code",
        "colab": {}
      },
      "source": [
        "import altair as alt\n",
        "import pandas as pd\n",
        "\n",
        "genre_columns = ['unknown', 'Action', 'Adventure', 'Animation', \\\n",
        "           'Children', 'Comedy', 'Crime', 'Documentary', 'Drama', 'Fantasy', \\\n",
        "           'Film-Noir', 'Horror', 'Musical', 'Mystery', 'Romance', 'Sci-Fi', \\\n",
        "           'Thriller', 'War', 'Western']\n",
        "\n",
        "df_movies_user = df_items.loc[ranking]\n",
        "\n",
        "genre_count = pd.DataFrame(df_movies_user[genre_columns].sum().sort_values())\n",
        "\n",
        "genre_count = genre_count.reset_index()\n",
        "genre_count.columns = [\"genre\", \"value\"]\n",
        "\n",
        "\n",
        "alt.Chart(genre_count).mark_bar().encode(\n",
        "    x=alt.X('value'),\n",
        "    y=alt.Y(\"genre\", sort=alt.EncodingSortField(\"value\", order='ascending'))\n",
        ").interactive()"
      ],
      "execution_count": 0,
      "outputs": []
    },
    {
      "cell_type": "markdown",
      "metadata": {
        "id": "ny4E5JcYZiyW",
        "colab_type": "text"
      },
      "source": [
        "### Actividad 2\n",
        "\n",
        "Pruebe distintos valores de los parámetros de entrenamiento del algoritmo SVD:\n",
        "\n",
        "- Número de factores\n",
        "- Número de iteraciones máxima\n",
        "- Learning rate\n",
        "- Lambda\n",
        "\n",
        "Finalmente describa cómo estos afectan las métricas y las recomendaciones hechas para el usuario que escogió. En particular \n",
        "\n",
        "(1) Genere un nuevo objeto SVD\n",
        "\n",
        "(2) Entrene con otros parámetros \n",
        "\n",
        "(3) Calcule RMSE y MAE para predicción\n",
        "\n",
        "(4) Calcule RMSE y MAE para recomendar\n",
        "\n",
        "(5) Recomienda 10 películas y **muestrelas explicitamente** \n",
        "\n",
        "(6) Grafique los géneros de esas 10 películas.\n",
        "\n",
        "(7) Explique, con sus palabras, como cambiar estas métricuas afecta las recomendaciones.\n"
      ]
    },
    {
      "cell_type": "code",
      "metadata": {
        "id": "QR_BhSeVY3S9",
        "colab_type": "code",
        "colab": {}
      },
      "source": [
        "# codigo para hacer los puntos 1, 2 y 3"
      ],
      "execution_count": 0,
      "outputs": []
    },
    {
      "cell_type": "code",
      "metadata": {
        "id": "7og440hjxU45",
        "colab_type": "code",
        "colab": {}
      },
      "source": [
        "# Código para hacer el punto 4"
      ],
      "execution_count": 0,
      "outputs": []
    },
    {
      "cell_type": "code",
      "metadata": {
        "id": "YzodQJvBxX7B",
        "colab_type": "code",
        "colab": {}
      },
      "source": [
        "# Código para hacer el punto 5"
      ],
      "execution_count": 0,
      "outputs": []
    },
    {
      "cell_type": "code",
      "metadata": {
        "id": "oSPaxghpxaZl",
        "colab_type": "code",
        "colab": {}
      },
      "source": [
        "# Código para hacer el punto 6"
      ],
      "execution_count": 0,
      "outputs": []
    },
    {
      "cell_type": "markdown",
      "metadata": {
        "id": "aq7orOCixdTw",
        "colab_type": "text"
      },
      "source": [
        "**respuesta del punto 7**"
      ]
    },
    {
      "cell_type": "markdown",
      "metadata": {
        "id": "BZvaluMLg88m",
        "colab_type": "text"
      },
      "source": [
        "### Actividad 3\n",
        "\n",
        "**Visualizar rendimiento de parámetros**\n",
        "\n",
        "Genere un gráfico explorando todos los parámetros que ofrece el modelo `SVD`, donde se grafiquen los valores probados para cada parámetro, el RMSE y MAE obtenido para cada uno. Debe probar una cantidad razonable de valores buscando la mejor parametrización y entregar el notebook con dicha parametrización.\n",
        "\n",
        "A continuación se muestra como se obtiene el RMSE y MAE cuando se cambia el parámetro de número de factores. En esta actividad se debe hacer lo mismo, pero cambian los otros 3 parámetros.\n",
        "\n"
      ]
    },
    {
      "cell_type": "code",
      "metadata": {
        "id": "Y_z52GrSax32",
        "colab_type": "code",
        "colab": {}
      },
      "source": [
        "# Código para probar con diferentes Número de factores\n",
        "\n",
        "factor_values = [100, 150, 200] # definir distintos numeros de factores\n",
        "mae_values = [] # para almacenar resultados de MAP\n",
        "rmse_values = [] # para almacenar valores de NDCG\n",
        "\n",
        "for f in factor_values:\n",
        "  svd.train(factors=f, maxiter=100, lr=0.01, lamb=0.1)\n",
        "  \n",
        "  predlist, mae, rmse = svd.test(input_file='u2.test',\n",
        "                                 dlmchar=b'\\t',\n",
        "                                 header=False,\n",
        "                                 usercol=0,\n",
        "                                 itemcol=1,\n",
        "                                 ratingcol=2)\n",
        "  \n",
        "  mae_values.append(mae)\n",
        "  rmse_values.append(rmse)\n",
        "\n",
        "print(mae_values)\n",
        "print(rmse_values)"
      ],
      "execution_count": 0,
      "outputs": []
    },
    {
      "cell_type": "code",
      "metadata": {
        "id": "UJdwjrMOTw5u",
        "colab_type": "code",
        "colab": {}
      },
      "source": [
        "# Código para visualizar MAE VS Número de factores\n",
        "plt.plot(factor_values, mae_values, 'r-')\n",
        "plt.show()"
      ],
      "execution_count": 0,
      "outputs": []
    },
    {
      "cell_type": "code",
      "metadata": {
        "id": "LkNoTG92U7jC",
        "colab_type": "code",
        "colab": {}
      },
      "source": [
        "# Código para visualizar RMSS VS Número de factores\n",
        "\n",
        "plt.plot(factor_values, rmse_values, 'bo-')\n",
        "plt.show()"
      ],
      "execution_count": 0,
      "outputs": []
    },
    {
      "cell_type": "code",
      "metadata": {
        "id": "tMFxAlJVUA35",
        "colab_type": "code",
        "colab": {}
      },
      "source": [
        "# Código para probar con diferentes Número de iteraciones máxima \n"
      ],
      "execution_count": 0,
      "outputs": []
    },
    {
      "cell_type": "code",
      "metadata": {
        "id": "1gBpCX6Ryutx",
        "colab_type": "code",
        "colab": {}
      },
      "source": [
        "# Código para visualizar RMSE VS Número de iteraciones máxima \n"
      ],
      "execution_count": 0,
      "outputs": []
    },
    {
      "cell_type": "code",
      "metadata": {
        "id": "_u7S1E31yuyy",
        "colab_type": "code",
        "colab": {}
      },
      "source": [
        "# Código para visualizar MAE VS Número de iteraciones máxima \n"
      ],
      "execution_count": 0,
      "outputs": []
    },
    {
      "cell_type": "code",
      "metadata": {
        "id": "KIa5PTgQykDY",
        "colab_type": "code",
        "colab": {}
      },
      "source": [
        "# Código para probar con diferentes Learning Rate\n"
      ],
      "execution_count": 0,
      "outputs": []
    },
    {
      "cell_type": "code",
      "metadata": {
        "id": "poQHDc0Zy_cI",
        "colab_type": "code",
        "colab": {}
      },
      "source": [
        "# Código para visualizar RMSE VS Learning Rate\n"
      ],
      "execution_count": 0,
      "outputs": []
    },
    {
      "cell_type": "code",
      "metadata": {
        "id": "9TgihTECy_hF",
        "colab_type": "code",
        "colab": {}
      },
      "source": [
        "# Código para visualizar MAE VS Learning Rate\n"
      ],
      "execution_count": 0,
      "outputs": []
    },
    {
      "cell_type": "code",
      "metadata": {
        "id": "fT6-NParykAZ",
        "colab_type": "code",
        "colab": {}
      },
      "source": [
        "# Código para probar con diferentes Lambda"
      ],
      "execution_count": 0,
      "outputs": []
    },
    {
      "cell_type": "code",
      "metadata": {
        "id": "gvv6Z8-2zG8V",
        "colab_type": "code",
        "colab": {}
      },
      "source": [
        "# Código para visualizar RMSE VS Lambda\n"
      ],
      "execution_count": 0,
      "outputs": []
    },
    {
      "cell_type": "code",
      "metadata": {
        "id": "gcMjBFr1zId5",
        "colab_type": "code",
        "colab": {}
      },
      "source": [
        "# Código para visualizar MAE VS Lambda\n"
      ],
      "execution_count": 0,
      "outputs": []
    },
    {
      "cell_type": "markdown",
      "metadata": {
        "id": "lWtg8NYNXFJ_",
        "colab_type": "text"
      },
      "source": [
        "# ALS (Implicit Feedback)  Coordinate Descent     _(Opcional)_\n",
        "\n"
      ]
    },
    {
      "cell_type": "markdown",
      "metadata": {
        "id": "9I40w0XT0ccx",
        "colab_type": "text"
      },
      "source": [
        "## Crear objeto ALS"
      ]
    },
    {
      "cell_type": "code",
      "metadata": {
        "id": "3gJlqzYoa1q9",
        "colab_type": "code",
        "colab": {}
      },
      "source": [
        "%%time\n",
        "# Definicion del objeto recomendador als\n",
        "alscg = pyreclab.IFAlsConjugateGradient(dataset='u2.base',\n",
        "                     dlmchar=b'\\t',\n",
        "                     header=False,\n",
        "                     usercol=0,\n",
        "                     itemcol=1,\n",
        "                     observationcol=2)"
      ],
      "execution_count": 0,
      "outputs": []
    },
    {
      "cell_type": "markdown",
      "metadata": {
        "id": "f0h71UFdzOjw",
        "colab_type": "text"
      },
      "source": [
        "## Entrenar ALS\n",
        "\n",
        "**Importante** La siguiente casilla toma al menos **1 minuto** en ejecutar. Por lo tanto debe esperar un poco."
      ]
    },
    {
      "cell_type": "code",
      "metadata": {
        "id": "fCYNPdqDuZIk",
        "colab_type": "code",
        "colab": {}
      },
      "source": [
        "%%time\n",
        "# Entrenamiento del modelo\n",
        "alscg.train(factors=120, alsNumIter=10, lambd=0.001, cgNumIter=3)"
      ],
      "execution_count": 0,
      "outputs": []
    },
    {
      "cell_type": "markdown",
      "metadata": {
        "id": "OzAsvtPg0XXi",
        "colab_type": "text"
      },
      "source": [
        "## Calcular métricas de recomendación (MAP y NDCG)"
      ]
    },
    {
      "cell_type": "code",
      "metadata": {
        "id": "8hKgvsTPuh97",
        "colab_type": "code",
        "colab": {}
      },
      "source": [
        "%%time\n",
        "# Testing de recomendaciones en el dataset de testx\n",
        "top_n = 20\n",
        "\n",
        "recommendList, maprec, ndcg = alscg.testrec(input_file='u2.test',\n",
        "                                          dlmchar=b'\\t',\n",
        "                                          header=False,\n",
        "                                          usercol=0,\n",
        "                                          itemcol=1,\n",
        "                                          ratingcol=2,\n",
        "                                          topn=top_n,\n",
        "                                          relevance_threshold=2,\n",
        "                                          includeRated=False)\n",
        "\n",
        "print('MAP: {}\\nNDCG@{}: {}'.format(maprec, top_n, ndcg))"
      ],
      "execution_count": 0,
      "outputs": []
    },
    {
      "cell_type": "markdown",
      "metadata": {
        "id": "M7PizyiSuAGS",
        "colab_type": "text"
      },
      "source": [
        "## Recomendar a un usuario en particular\n",
        "\n",
        "Listar recomendaciones para un usuario en particular. En este caso se escogió el número **10**."
      ]
    },
    {
      "cell_type": "code",
      "metadata": {
        "id": "q-SGuvE7wP3B",
        "colab_type": "code",
        "colab": {}
      },
      "source": [
        "%%time\n",
        "# Calcular las recomendaciones para el usuario escogido\n",
        "user_id = 10\n",
        "ranking = [int(r) for r in alscg.recommend(str(user_id), top_n, includeRated=False)]\n",
        "print('Recommendation for user {}: {}'.format(user_id, ranking))"
      ],
      "execution_count": 0,
      "outputs": []
    },
    {
      "cell_type": "code",
      "metadata": {
        "id": "0sKr7oi0w1SJ",
        "colab_type": "code",
        "colab": {}
      },
      "source": [
        "# Ver explicitamente las recomendaciones para el usuario\n",
        "df_items.loc[ranking]"
      ],
      "execution_count": 0,
      "outputs": []
    }
  ]
}